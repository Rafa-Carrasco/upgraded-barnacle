{
    "cells": [
        {
            "cell_type": "markdown",
            "metadata": {},
            "source": [
                "# Explore here"
            ]
        },
        {
            "cell_type": "code",
            "execution_count": null,
            "metadata": {},
            "outputs": [],
            "source": [
                "# Your code here\n",
                "\n",
                "import os\n",
                "import pandas as pd\n",
                "import requests\n",
                "import matplotlib.pyplot as plt \n",
                "import seaborn as sns\n",
                "from sklearn.model_selection import train_test_split\n",
                "\n",
                "# 1. descargar data\n",
                "\n",
                "# url = \"https://raw.githubusercontent.com/4GeeksAcademy/regularized-linear-regression-project-tutorial/main/demographic_health_data.csv\"\n",
                "# respuesta = requests.get(url)\n",
                "# nombre_archivo = \"demographic_health_data.csv\"\n",
                "# with open(nombre_archivo, 'wb') as archivo:\n",
                "#      archivo.write(respuesta.content)\n",
                "\n",
                "# 2. convertir csv en dataframe\n",
                "\n",
                "total_data = pd.read_csv(\"../data/raw/demographic_health_data.csv\")\n",
                "\n",
                "\n",
                "# borrar duplicados\n",
                "total_data_sin = total_data.drop_duplicates()  \n",
                "total_data_sin.shape\n",
                "# no hay duplicados\n",
                "\n",
                "total_data.head()\n",
                "ncols = total_data.columns.tolist()\n",
                "print(ncols)"
            ]
        },
        {
            "cell_type": "code",
            "execution_count": null,
            "metadata": {},
            "outputs": [],
            "source": [
                "# eliminar colñumnas irrelevantes. Muchos valores tienen diferencias medidas par el miosmo valor (95% CI, number, etc..)  asi que podemos eliminar algunas referencias \n",
                "\n",
                "total_data_cl1 = total_data.drop(['0-9', '19-Oct', '20-29','30-39','40-49','50-59', '60-69' ,'70-79','80+','White-alone pop', 'Black-alone pop','Native American/American Indian-alone pop','Asian-alone pop','Hawaiian/Pacific Islander-alone pop','Two or more races pop',], axis=1) \n",
                "total_data_cl2 = total_data_cl1.drop(['TOT_POP','Population Aged 60+','Percent of Population Aged 60+', 'fips', 'CNTY_FIPS', 'STATE_FIPS', 'CI90LBINC_2018', 'CI90UBINC_2018', 'Obesity_Lower 95% CI', 'Obesity_Upper 95% CI', 'Heart disease_Lower 95% CI', 'Heart disease_Upper 95% CI', 'COPD_Lower 95% CI', 'COPD_Upper 95% CI', 'diabetes_Lower 95% CI', 'diabetes_Upper 95% CI', 'CKD_Lower 95% CI', 'CKD_Upper 95% CI', 'anycondition_Lower 95% CI', 'anycondition_Upper 95% CI', 'anycondition_number', 'Obesity_number', 'Heart disease_number', 'COPD_number', 'diabetes_number', 'CKD_number'   ], axis=1)\n",
                "# total_data_cl2.info()\n",
                "\n",
                "# el comando info nos dice que no hay null en ninguna fila. Para confirmar\n",
                "\n",
                "total_nan = total_data_cl2.isna().sum().sum()\n",
                "print('Total de valores NaN en el DataFrame es igual a', total_nan)\n",
                "\n"
            ]
        },
        {
            "cell_type": "code",
            "execution_count": null,
            "metadata": {},
            "outputs": [],
            "source": [
                "# vamos a agrupar las variables en conjuntos relacionados por dominios: edades, grupos etnico, datos educacion, datos laborales, datos economicos, salud, recursos sanitarios\n",
                "Cl_cols = total_data_cl2.columns.tolist()\n",
                "print(Cl_cols)\n",
                "\n",
                "\n",
                "edad_sub = total_data_cl2[[ '0-9 y/o % of total pop', '10-19 y/o % of total pop', '20-29 y/o % of total pop', '30-39 y/o % of total pop', '40-49 y/o % of total pop', '50-59 y/o % of total pop', '60-69 y/o % of total pop', '70-79 y/o % of total pop', '80+ y/o % of total pop' ]] \n",
                "etnic_sub = total_data_cl2[['% White-alone', '% Black-alone', '% NA/AI-alone', '% Asian-alone', '% Hawaiian/PI-alone', '% Two or more races',]]\n",
                "pop_sub = total_data_cl2[['Total Population', 'POP_ESTIMATE_2018', 'N_POP_CHG_2018', 'GQ_ESTIMATES_2018', 'R_birth_2018', 'R_death_2018', 'R_NATURAL_INC_2018', 'R_INTERNATIONAL_MIG_2018', 'R_DOMESTIC_MIG_2018', 'R_NET_MIG_2018', 'county_pop2018_18 and older' ]]\n",
                "edu_sub = total_data_cl2[['Less than a high school diploma 2014-18', 'High school diploma only 2014-18', \"Some college or associate's degree 2014-18\", \"Bachelor's degree or higher 2014-18\", 'Percent of adults with less than a high school diploma 2014-18', 'Percent of adults with a high school diploma only 2014-18', \"Percent of adults completing some college or associate's degree 2014-18\", \"Percent of adults with a bachelor's degree or higher 2014-18\" ]]\n",
                "work_sub = total_data_cl2[['Civilian_labor_force_2018', 'Employed_2018', 'Unemployed_2018', 'Unemployment_rate_2018']]\n",
                "econ_sub = total_data_cl2[['POVALL_2018', 'PCTPOVALL_2018', 'PCTPOV017_2018', 'PCTPOV517_2018', 'MEDHHINC_2018','Median_Household_Income_2018','Median_Household_Income_2018', 'Med_HH_Income_Percent_of_State_Total_2018',  ]]\n",
                "health_sub = total_data_cl2[['anycondition_prevalence', 'Obesity_prevalence', 'Heart disease_prevalence', 'COPD_prevalence', 'diabetes_prevalence', 'CKD_prevalence',]]\n",
                "sani_sub = total_data_cl2[['Active Physicians per 100000 Population 2018 (AAMC)', 'Total Active Patient Care Physicians per 100000 Population 2018 (AAMC)', 'Active Primary Care Physicians per 100000 Population 2018 (AAMC)', 'Active Patient Care Primary Care Physicians per 100000 Population 2018 (AAMC)', 'Active General Surgeons per 100000 Population 2018 (AAMC)', 'Active Patient Care General Surgeons per 100000 Population 2018 (AAMC)', 'Total nurse practitioners (2019)', 'Total physician assistants (2019)', 'Total Hospitals (2019)', 'Internal Medicine Primary Care (2019)', 'Family Medicine/General Practice Primary Care (2019)', 'Total Specialist Physicians (2019)', 'ICU Beds_x',]]\n",
                "\n",
                "# 'COUNTY_NAME', 'STATE_NAME', 'Urban_rural_code']\n",
                "\n",
                "# graficamos las variables pro grupos\n",
                "\n",
                "print(\"Grupos de edades\")\n",
                "print(edad_sub.describe())\n",
                "sns.pairplot(edad_sub, kind='reg')\n",
                "plt.show()"
            ]
        },
        {
            "cell_type": "code",
            "execution_count": null,
            "metadata": {},
            "outputs": [],
            "source": [
                "# analisis descriptivo por grupos\n",
                "\n",
                "\n",
                "print(\"Estadísticas descriptivas básicas de los grupos de edad\")\n",
                "print(edad_sub.describe())\n",
                "\n",
                "print(\"Estadísticas descriptivas básicas de los grupos por nivel educativ\")\n",
                "print(edu_sub.describe())\n",
                "\n",
                "print(\"Estadísticas descriptivas básicas de los grupos etnicos\")\n",
                "print(etnic_sub.describe())\n",
                "\n",
                "print(\"Estadísticas descriptivas básicas de los grupos segun empleo\")\n",
                "print(work_sub.describe())\n",
                "\n",
                "print(\"Estadísticas descriptivas básicas de los grupos segun salud\")\n",
                "print(health_sub.describe())\n",
                "\n",
                "print(\"Estadísticas descriptivas básicas de los grupos demoigraficos\")\n",
                "print(pop_sub.describe())\n",
                "\n",
                "print(\"Estadísticas descriptivas básicas de los grupos segun ingresos\")\n",
                "print(econ_sub.describe())\n",
                "\n",
                "print(\"Estadísticas descriptivas básicas de los grupos de recursos sanitarios\")\n",
                "print(sani_sub.describe())\n",
                "\n",
                "\n",
                "\n"
            ]
        },
        {
            "cell_type": "code",
            "execution_count": null,
            "metadata": {},
            "outputs": [],
            "source": [
                "from sklearn.preprocessing import MinMaxScaler, StandardScaler, RobustScaler\n",
                "\n",
                "# Seleccionar solo las columnas numéricas\n",
                "numeric_columns = total_data_cl2.select_dtypes(include=['float64', 'int64']).columns\n",
                "df_numeric = total_data_cl2[numeric_columns]\n",
                "\n",
                "# Aplicar el escalamiento solo a las columnas numéricas\n",
                "scaler = MinMaxScaler()\n",
                "df_numeric_scaled = pd.DataFrame(scaler.fit_transform(df_numeric), columns=numeric_columns)\n",
                "print(df_numeric_scaled.head())"
            ]
        },
        {
            "cell_type": "code",
            "execution_count": null,
            "metadata": {},
            "outputs": [],
            "source": [
                "from sklearn.model_selection import train_test_split\n",
                "\n",
                "# Separar características (X) y variable objetivo (y)\n",
                "X = df_numeric_scaled.drop(columns=[\"Active Physicians per 100000 Population 2018 (AAMC)\"])\n",
                "y = df_numeric_scaled['Active Physicians per 100000 Population 2018 (AAMC)']\n",
                "\n",
                "X_train, X_test, y_train, y_test = train_test_split(X, y, test_size=0.2, random_state=42)\n",
                "\n",
                "print(\"Conjunto de entrenamiento (X_train):\")\n",
                "print(X_train)\n",
                "print(\"\\nConjunto de prueba (X_test):\")\n",
                "print(X_test)\n",
                "print(\"\\nVariable objetivo de entrenamiento (y_train):\")\n",
                "print(y_train)\n",
                "print(\"\\nVariable objetivo de prueba (y_test):\")\n",
                "print(y_test)"
            ]
        },
        {
            "cell_type": "code",
            "execution_count": null,
            "metadata": {},
            "outputs": [],
            "source": [
                "from sklearn.feature_selection import SelectKBest, f_regression\n",
                "\n",
                "k = int(len(X_train.columns) * 0.3)\n",
                "selection_model = SelectKBest(score_func = f_regression, k = k)\n",
                "selection_model.fit(X_train, y_train)\n",
                "ix = selection_model.get_support()\n",
                "\n",
                "X_train_sel = pd.DataFrame(selection_model.transform(X_train), columns = X_train.columns.values[ix])\n",
                "X_test_sel = pd.DataFrame(selection_model.transform(X_test), columns = X_test.columns.values[ix])\n",
                "\n",
                "X_train_sel.head()\n"
            ]
        },
        {
            "cell_type": "code",
            "execution_count": null,
            "metadata": {},
            "outputs": [],
            "source": [
                "X_train_sel[\"Active Physicians per 100000 Population 2018 (AAMC)\"] = list(y_train)\n",
                "X_test_sel[\"Active Physicians per 100000 Population 2018 (AAMC)\"] = list(y_test)\n",
                "\n",
                "X_train_sel.to_csv(\"../data/processed/cl_train.csv\", index = False)\n",
                "X_test_sel.to_csv(\"../data/processed/cl_test.csv\", index = False)\n",
                "\n",
                "train_data = pd.read_csv(\"../data/processed/cl_train.csv\")\n",
                "test_data = pd.read_csv(\"../data/processed/cl_test.csv\")\n",
                "\n",
                "train_data.head()\n",
                "\n",
                "X_train = train_data.drop([\"Active Physicians per 100000 Population 2018 (AAMC)\"], axis = 1)\n",
                "y_train = train_data[\"Active Physicians per 100000 Population 2018 (AAMC)\"]\n",
                "X_test = test_data.drop([\"Active Physicians per 100000 Population 2018 (AAMC)\"], axis = 1)\n",
                "y_test = test_data[\"Active Physicians per 100000 Population 2018 (AAMC)\"]\n",
                "\n",
                "y_test.info()\n",
                "y_test.head()\n"
            ]
        },
        {
            "cell_type": "code",
            "execution_count": null,
            "metadata": {},
            "outputs": [],
            "source": [
                "from sklearn.linear_model import LinearRegression\n",
                "\n",
                "model = LinearRegression()\n",
                "model.fit(X_train, y_train)\n",
                "\n",
                "print(f\"Intercepto (a): {model.intercept_}\")\n",
                "print(f\"Coeficientes (b): {model.coef_}\")\n",
                "\n",
                "\n",
                "y_pred = model.predict(X_test)\n",
                "y_pred"
            ]
        },
        {
            "cell_type": "code",
            "execution_count": null,
            "metadata": {},
            "outputs": [],
            "source": [
                "from sklearn.metrics import mean_squared_error, r2_score\n",
                "\n",
                "print(f\"Error cuadrático medio: {mean_squared_error(y_test, y_pred)}\")\n",
                "print(f\"Coeficiente de determinación: {r2_score(y_test, y_pred)}\")"
            ]
        },
        {
            "cell_type": "code",
            "execution_count": null,
            "metadata": {},
            "outputs": [],
            "source": [
                "from sklearn.linear_model import Lasso\n",
                "\n",
                "lasso_model = Lasso(alpha = 20, max_iter = 300)\n",
                "lasso_model.fit(X_train, y_train)\n",
                "score = lasso_model.score(X_test, y_test)\n",
                "print(\"Coefficients:\", lasso_model.coef_)\n",
                "print(\"R2 score:\", score)"
            ]
        }
    ],
    "metadata": {
        "kernelspec": {
            "display_name": "Python 3.8.13 64-bit ('3.8.13')",
            "language": "python",
            "name": "python3"
        },
        "language_info": {
            "codemirror_mode": {
                "name": "ipython",
                "version": 3
            },
            "file_extension": ".py",
            "mimetype": "text/x-python",
            "name": "python",
            "nbconvert_exporter": "python",
            "pygments_lexer": "ipython3",
            "version": "3.10.12"
        },
        "orig_nbformat": 4,
        "vscode": {
            "interpreter": {
                "hash": "110cc1dee26208153f2972f08a2ad52b6a56238dc66d48e87fb757ef2996db56"
            }
        }
    },
    "nbformat": 4,
    "nbformat_minor": 2
}
